{
  "nbformat": 4,
  "nbformat_minor": 0,
  "metadata": {
    "colab": {
      "name": "logistic_regression.ipynb",
      "provenance": [],
      "collapsed_sections": [],
      "machine_shape": "hm",
      "include_colab_link": true
    },
    "kernelspec": {
      "name": "python3",
      "display_name": "Python 3"
    }
  },
  "cells": [
    {
      "cell_type": "markdown",
      "metadata": {
        "id": "view-in-github",
        "colab_type": "text"
      },
      "source": [
        "<a href=\"https://colab.research.google.com/github/MdSharique1205/Machine_Learning/blob/main/logistic_regression.ipynb\" target=\"_parent\"><img src=\"https://colab.research.google.com/assets/colab-badge.svg\" alt=\"Open In Colab\"/></a>"
      ]
    },
    {
      "cell_type": "markdown",
      "metadata": {
        "id": "0MRC0e0KhQ0S"
      },
      "source": [
        "# Logistic Regression"
      ]
    },
    {
      "cell_type": "markdown",
      "metadata": {
        "id": "LWd1UlMnhT2s"
      },
      "source": [
        "## Importing the libraries"
      ]
    },
    {
      "cell_type": "code",
      "metadata": {
        "id": "kt50_y-tIQgg"
      },
      "source": [
        "import pandas as pd\n",
        "import numpy as np\n",
        "import matplotlib.pyplot as plt"
      ],
      "execution_count": null,
      "outputs": []
    },
    {
      "cell_type": "markdown",
      "metadata": {
        "id": "K1VMqkGvhc3-"
      },
      "source": [
        "## Importing the dataset"
      ]
    },
    {
      "cell_type": "code",
      "metadata": {
        "id": "1CDDld8WIVNj"
      },
      "source": [
        "dataset = pd.read_csv('Social_Network_Ads.csv')\n",
        "X = dataset.iloc[:,:-1].values\n",
        "y = dataset.iloc[:,-1].values"
      ],
      "execution_count": null,
      "outputs": []
    },
    {
      "cell_type": "markdown",
      "metadata": {
        "id": "YvxIPVyMhmKp"
      },
      "source": [
        "## Splitting the dataset into the Training set and Test set"
      ]
    },
    {
      "cell_type": "code",
      "metadata": {
        "id": "VmHmaVqYIxkm"
      },
      "source": [
        "from sklearn.model_selection import train_test_split\n",
        "X_train, X_test, y_train, y_test = train_test_split(X,y,test_size=0.25,random_state =0)"
      ],
      "execution_count": null,
      "outputs": []
    },
    {
      "cell_type": "markdown",
      "metadata": {
        "id": "kW3c7UYih0hT"
      },
      "source": [
        "## Feature Scaling"
      ]
    },
    {
      "cell_type": "code",
      "metadata": {
        "id": "SY8kAx3OJMm8"
      },
      "source": [
        "from sklearn.preprocessing import StandardScaler\n",
        "std_scaler = StandardScaler()\n",
        "X_train = std_scaler.fit_transform(X_train)\n",
        "X_test = std_scaler.transform(X_test)"
      ],
      "execution_count": null,
      "outputs": []
    },
    {
      "cell_type": "markdown",
      "metadata": {
        "id": "bb6jCOCQiAmP"
      },
      "source": [
        "## Training the Logistic Regression model on the Training set"
      ]
    },
    {
      "cell_type": "code",
      "metadata": {
        "colab": {
          "base_uri": "https://localhost:8080/"
        },
        "id": "23wdddaSLg2q",
        "outputId": "c6f15478-d4a6-493d-e536-74ffbe9d4ae1"
      },
      "source": [
        "from sklearn.linear_model import LogisticRegression\n",
        "classifier = LogisticRegression(random_state=0)\n",
        "classifier.fit(X_train,y_train)"
      ],
      "execution_count": null,
      "outputs": [
        {
          "output_type": "execute_result",
          "data": {
            "text/plain": [
              "LogisticRegression(C=1.0, class_weight=None, dual=False, fit_intercept=True,\n",
              "                   intercept_scaling=1, l1_ratio=None, max_iter=100,\n",
              "                   multi_class='auto', n_jobs=None, penalty='l2',\n",
              "                   random_state=0, solver='lbfgs', tol=0.0001, verbose=0,\n",
              "                   warm_start=False)"
            ]
          },
          "metadata": {},
          "execution_count": 23
        }
      ]
    },
    {
      "cell_type": "markdown",
      "metadata": {
        "id": "yyxW5b395mR2"
      },
      "source": [
        "## Predicting a new result"
      ]
    },
    {
      "cell_type": "code",
      "metadata": {
        "colab": {
          "base_uri": "https://localhost:8080/"
        },
        "id": "sPrrZ15dLu73",
        "outputId": "afdb0529-a63a-4d32-e747-a2eba7ea5124"
      },
      "source": [
        "y_pred = classifier.predict(std_scaler.transform([[30,87000]]))\n",
        "print(y_pred)"
      ],
      "execution_count": null,
      "outputs": [
        {
          "output_type": "stream",
          "name": "stdout",
          "text": [
            "[0]\n"
          ]
        }
      ]
    },
    {
      "cell_type": "markdown",
      "metadata": {
        "id": "vKYVQH-l5NpE"
      },
      "source": [
        "## Predicting the Test set results"
      ]
    },
    {
      "cell_type": "code",
      "metadata": {
        "colab": {
          "base_uri": "https://localhost:8080/"
        },
        "id": "gnsTNY0UNahV",
        "outputId": "c13b08cd-d18c-4dd9-d17f-3d67aece5976"
      },
      "source": [
        "ypred = classifier.predict(X_test)\n",
        "print(ypred)"
      ],
      "execution_count": null,
      "outputs": [
        {
          "output_type": "stream",
          "name": "stdout",
          "text": [
            "[0 0 0 0 0 0 0 1 0 1 0 0 0 0 0 0 0 0 1 0 0 1 0 1 0 1 0 0 0 0 0 0 1 0 0 0 0\n",
            " 0 0 1 0 0 0 0 1 0 0 1 0 1 1 0 0 0 1 0 0 0 0 0 0 1 0 0 0 1 0 0 0 0 1 0 0 0\n",
            " 0 0 1 0 1 1 1 1 0 0 1 1 0 1 0 0 0 1 0 0 0 0 0 0 1 1]\n"
          ]
        }
      ]
    },
    {
      "cell_type": "code",
      "metadata": {
        "colab": {
          "base_uri": "https://localhost:8080/"
        },
        "id": "9RI7gf0vNooA",
        "outputId": "8a09ef39-310e-4760-a115-589be9ad46fe"
      },
      "source": [
        "X_test =std_scaler.inverse_transform(X_test)\n",
        "for i in range(0,len(X_test)):\n",
        "  print(X_test[i][0],\" \",X_test[i][1],\" :\",ypred[i])"
      ],
      "execution_count": null,
      "outputs": [
        {
          "output_type": "stream",
          "name": "stdout",
          "text": [
            "30.0   87000.0  : 0\n",
            "38.0   50000.0  : 0\n",
            "35.0   75000.0  : 0\n",
            "30.0   79000.0  : 0\n",
            "35.0   50000.0  : 0\n",
            "27.0   20000.0  : 0\n",
            "31.0   15000.0  : 0\n",
            "36.0   144000.0  : 1\n",
            "18.0   68000.0  : 0\n",
            "47.0   43000.0  : 1\n",
            "30.0   49000.0  : 0\n",
            "28.0   55000.0  : 0\n",
            "37.0   55000.0  : 0\n",
            "39.0   77000.0  : 0\n",
            "20.0   86000.0  : 0\n",
            "32.0   117000.0  : 0\n",
            "37.0   77000.0  : 0\n",
            "19.0   85000.0  : 0\n",
            "55.0   130000.0  : 1\n",
            "35.0   22000.0  : 0\n",
            "35.0   47000.0  : 0\n",
            "47.0   144000.0  : 1\n",
            "41.0   51000.0  : 0\n",
            "47.0   105000.0  : 1\n",
            "23.0   28000.0  : 0\n",
            "49.0   141000.0  : 1\n",
            "28.0   87000.0  : 0\n",
            "29.0   80000.0  : 0\n",
            "37.0   62000.0  : 0\n",
            "32.0   86000.0  : 0\n",
            "21.0   88000.0  : 0\n",
            "37.0   79000.0  : 0\n",
            "57.0   60000.0  : 1\n",
            "37.0   53000.0  : 0\n",
            "24.0   58000.0  : 0\n",
            "18.0   52000.0  : 0\n",
            "22.0   81000.0  : 0\n",
            "34.0   43000.0  : 0\n",
            "31.0   34000.0  : 0\n",
            "49.0   36000.0  : 1\n",
            "27.0   88000.0  : 0\n",
            "41.0   52000.0  : 0\n",
            "27.0   84000.0  : 0\n",
            "35.0   20000.0  : 0\n",
            "43.0   112000.0  : 1\n",
            "27.0   58000.0  : 0\n",
            "37.0   80000.0  : 0\n",
            "52.0   90000.0  : 1\n",
            "26.0   30000.000000000007  : 0\n",
            "49.0   86000.0  : 1\n",
            "57.0   122000.0  : 1\n",
            "34.0   25000.0  : 0\n",
            "35.0   57000.0  : 0\n",
            "34.0   115000.0  : 0\n",
            "59.0   88000.0  : 1\n",
            "45.0   32000.0  : 0\n",
            "29.0   83000.0  : 0\n",
            "26.0   80000.0  : 0\n",
            "49.0   28000.0  : 0\n",
            "23.0   20000.0  : 0\n",
            "32.0   18000.0  : 0\n",
            "60.0   42000.0  : 1\n",
            "19.0   76000.0  : 0\n",
            "36.0   99000.0  : 0\n",
            "19.0   26000.0  : 0\n",
            "60.0   83000.0  : 1\n",
            "24.0   89000.0  : 0\n",
            "27.0   58000.0  : 0\n",
            "40.0   47000.0  : 0\n",
            "42.0   70000.0  : 0\n",
            "32.0   150000.0  : 1\n",
            "35.0   77000.0  : 0\n",
            "22.0   63000.0  : 0\n",
            "45.0   22000.0  : 0\n",
            "27.0   89000.0  : 0\n",
            "18.0   82000.0  : 0\n",
            "42.0   79000.0  : 1\n",
            "40.0   60000.0  : 0\n",
            "53.0   34000.0  : 1\n",
            "47.0   107000.0  : 1\n",
            "58.0   144000.0  : 1\n",
            "59.0   83000.0  : 1\n",
            "24.0   55000.0  : 0\n",
            "26.0   35000.0  : 0\n",
            "58.0   38000.0  : 1\n",
            "42.0   80000.0  : 1\n",
            "40.0   75000.0  : 0\n",
            "59.0   130000.0  : 1\n",
            "46.0   41000.0  : 0\n",
            "41.0   60000.0  : 0\n",
            "42.0   64000.0  : 0\n",
            "37.0   146000.0  : 1\n",
            "23.0   48000.0  : 0\n",
            "25.0   33000.0  : 0\n",
            "24.0   84000.0  : 0\n",
            "27.0   96000.0  : 0\n",
            "23.0   63000.0  : 0\n",
            "48.0   33000.0  : 0\n",
            "48.0   90000.0  : 1\n",
            "42.0   104000.0  : 1\n"
          ]
        }
      ]
    },
    {
      "cell_type": "code",
      "metadata": {
        "colab": {
          "base_uri": "https://localhost:8080/"
        },
        "id": "cg6Um5kXPP2Z",
        "outputId": "63d4113b-091a-481f-de57-750e01834ac4"
      },
      "source": [
        "ypred2 = classifier.predict(std_scaler.transform(X_test)) \n",
        "print(np.concatenate((ypred2.reshape(len(ypred2),1),y_test.reshape(len(y_test),1)),1))"
      ],
      "execution_count": null,
      "outputs": [
        {
          "output_type": "stream",
          "name": "stdout",
          "text": [
            "[[0 0]\n",
            " [0 0]\n",
            " [0 0]\n",
            " [0 0]\n",
            " [0 0]\n",
            " [0 0]\n",
            " [0 0]\n",
            " [1 1]\n",
            " [0 0]\n",
            " [1 0]\n",
            " [0 0]\n",
            " [0 0]\n",
            " [0 0]\n",
            " [0 0]\n",
            " [0 0]\n",
            " [0 0]\n",
            " [0 0]\n",
            " [0 0]\n",
            " [1 1]\n",
            " [0 0]\n",
            " [0 0]\n",
            " [1 1]\n",
            " [0 0]\n",
            " [1 1]\n",
            " [0 0]\n",
            " [1 1]\n",
            " [0 0]\n",
            " [0 0]\n",
            " [0 0]\n",
            " [0 0]\n",
            " [0 0]\n",
            " [0 1]\n",
            " [1 1]\n",
            " [0 0]\n",
            " [0 0]\n",
            " [0 0]\n",
            " [0 0]\n",
            " [0 0]\n",
            " [0 0]\n",
            " [1 1]\n",
            " [0 0]\n",
            " [0 0]\n",
            " [0 0]\n",
            " [0 0]\n",
            " [1 1]\n",
            " [0 0]\n",
            " [0 0]\n",
            " [1 1]\n",
            " [0 0]\n",
            " [1 1]\n",
            " [1 1]\n",
            " [0 0]\n",
            " [0 0]\n",
            " [0 0]\n",
            " [1 1]\n",
            " [0 1]\n",
            " [0 0]\n",
            " [0 0]\n",
            " [0 1]\n",
            " [0 0]\n",
            " [0 0]\n",
            " [1 1]\n",
            " [0 0]\n",
            " [0 1]\n",
            " [0 0]\n",
            " [1 1]\n",
            " [0 0]\n",
            " [0 0]\n",
            " [0 0]\n",
            " [0 0]\n",
            " [1 1]\n",
            " [0 0]\n",
            " [0 0]\n",
            " [0 1]\n",
            " [0 0]\n",
            " [0 0]\n",
            " [1 0]\n",
            " [0 0]\n",
            " [1 1]\n",
            " [1 1]\n",
            " [1 1]\n",
            " [1 0]\n",
            " [0 0]\n",
            " [0 0]\n",
            " [1 1]\n",
            " [1 1]\n",
            " [0 0]\n",
            " [1 1]\n",
            " [0 1]\n",
            " [0 0]\n",
            " [0 0]\n",
            " [1 1]\n",
            " [0 0]\n",
            " [0 0]\n",
            " [0 0]\n",
            " [0 1]\n",
            " [0 0]\n",
            " [0 1]\n",
            " [1 1]\n",
            " [1 1]]\n"
          ]
        }
      ]
    },
    {
      "cell_type": "code",
      "metadata": {
        "colab": {
          "base_uri": "https://localhost:8080/"
        },
        "id": "DWFj7yEiQiN5",
        "outputId": "6b9f1f85-d25a-4195-86f6-d035b436e935"
      },
      "source": [
        "correct,incorrect =0,0\n",
        "for x in range (0,len(ypred2)):\n",
        "  if(ypred2[x]==y_test[x]):\n",
        "    correct+=1\n",
        "  else:\n",
        "    incorrect+=1\n",
        "print(correct, incorrect)"
      ],
      "execution_count": null,
      "outputs": [
        {
          "output_type": "stream",
          "name": "stdout",
          "text": [
            "89 11\n"
          ]
        }
      ]
    },
    {
      "cell_type": "markdown",
      "metadata": {
        "id": "h4Hwj34ziWQW"
      },
      "source": [
        "## Making the Confusion Matrix"
      ]
    },
    {
      "cell_type": "code",
      "metadata": {
        "colab": {
          "base_uri": "https://localhost:8080/"
        },
        "id": "j9oZxkhNedoN",
        "outputId": "e401c389-9c33-4e6b-f7d8-c0ed88d97d3c"
      },
      "source": [
        "from sklearn.metrics import confusion_matrix, accuracy_score\n",
        "cm = confusion_matrix(y_test,ypred2)\n",
        "accuracy_score(y_test,ypred2)"
      ],
      "execution_count": null,
      "outputs": [
        {
          "output_type": "execute_result",
          "data": {
            "text/plain": [
              "0.89"
            ]
          },
          "metadata": {},
          "execution_count": 39
        }
      ]
    },
    {
      "cell_type": "code",
      "metadata": {
        "colab": {
          "base_uri": "https://localhost:8080/"
        },
        "id": "b2hlR5P_fU9_",
        "outputId": "6729a617-c158-475a-9375-b0eabc05cef2"
      },
      "source": [
        "print(cm)"
      ],
      "execution_count": null,
      "outputs": [
        {
          "output_type": "stream",
          "name": "stdout",
          "text": [
            "[[65  3]\n",
            " [ 8 24]]\n"
          ]
        }
      ]
    },
    {
      "cell_type": "markdown",
      "metadata": {
        "id": "6OMC_P0diaoD"
      },
      "source": [
        "## Visualising the Training set results"
      ]
    },
    {
      "cell_type": "markdown",
      "metadata": {
        "id": "SZ-j28aPihZx"
      },
      "source": [
        "## Visualising the Test set results"
      ]
    }
  ]
}